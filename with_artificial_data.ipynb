{
  "nbformat": 4,
  "nbformat_minor": 5,
  "metadata": {
    "kernelspec": {
      "display_name": "Python 3",
      "language": "python",
      "name": "python3"
    },
    "language_info": {
      "codemirror_mode": {
        "name": "ipython",
        "version": 3
      },
      "file_extension": ".py",
      "mimetype": "text/x-python",
      "name": "python",
      "nbconvert_exporter": "python",
      "pygments_lexer": "ipython3",
      "version": "3.9.1"
    },
    "colab": {
      "name": "with_artificial_data.ipynb",
      "provenance": [],
      "collapsed_sections": [],
      "toc_visible": true,
      "include_colab_link": true
    }
  },
  "cells": [
    {
      "cell_type": "markdown",
      "metadata": {
        "id": "view-in-github",
        "colab_type": "text"
      },
      "source": [
        "<a href=\"https://colab.research.google.com/github/AurelienNioche/ActiveTeachingApp/blob/master/with_artificial_data.ipynb\" target=\"_parent\"><img src=\"https://colab.research.google.com/assets/colab-badge.svg\" alt=\"Open In Colab\"/></a>"
      ]
    },
    {
      "cell_type": "code",
      "metadata": {
        "id": "FW1zh_17Q97Z",
        "colab": {
          "base_uri": "https://localhost:8080/"
        },
        "outputId": "d6b7b30e-adb0-4215-a5a9-4bdc0c7e6e43"
      },
      "source": [
        "!pip install arviz"
      ],
      "id": "FW1zh_17Q97Z",
      "execution_count": 1,
      "outputs": [
        {
          "output_type": "stream",
          "text": [
            "Requirement already satisfied: arviz in /usr/local/lib/python3.6/dist-packages (0.11.1)\n",
            "Requirement already satisfied: scipy>=0.19 in /usr/local/lib/python3.6/dist-packages (from arviz) (1.4.1)\n",
            "Requirement already satisfied: packaging in /usr/local/lib/python3.6/dist-packages (from arviz) (20.9)\n",
            "Requirement already satisfied: pandas>=0.23 in /usr/local/lib/python3.6/dist-packages (from arviz) (1.1.5)\n",
            "Requirement already satisfied: numpy>=1.12 in /usr/local/lib/python3.6/dist-packages (from arviz) (1.19.5)\n",
            "Requirement already satisfied: matplotlib>=3.0 in /usr/local/lib/python3.6/dist-packages (from arviz) (3.2.2)\n",
            "Requirement already satisfied: typing-extensions<4,>=3.7.4.3 in /usr/local/lib/python3.6/dist-packages (from arviz) (3.7.4.3)\n",
            "Requirement already satisfied: netcdf4 in /usr/local/lib/python3.6/dist-packages (from arviz) (1.5.6)\n",
            "Requirement already satisfied: xarray>=0.16.1 in /usr/local/lib/python3.6/dist-packages (from arviz) (0.16.2)\n",
            "Requirement already satisfied: setuptools>=38.4 in /usr/local/lib/python3.6/dist-packages (from arviz) (53.0.0)\n",
            "Requirement already satisfied: pyparsing>=2.0.2 in /usr/local/lib/python3.6/dist-packages (from packaging->arviz) (2.4.7)\n",
            "Requirement already satisfied: python-dateutil>=2.7.3 in /usr/local/lib/python3.6/dist-packages (from pandas>=0.23->arviz) (2.8.1)\n",
            "Requirement already satisfied: pytz>=2017.2 in /usr/local/lib/python3.6/dist-packages (from pandas>=0.23->arviz) (2018.9)\n",
            "Requirement already satisfied: cycler>=0.10 in /usr/local/lib/python3.6/dist-packages (from matplotlib>=3.0->arviz) (0.10.0)\n",
            "Requirement already satisfied: kiwisolver>=1.0.1 in /usr/local/lib/python3.6/dist-packages (from matplotlib>=3.0->arviz) (1.3.1)\n",
            "Requirement already satisfied: cftime in /usr/local/lib/python3.6/dist-packages (from netcdf4->arviz) (1.4.1)\n",
            "Requirement already satisfied: six>=1.5 in /usr/local/lib/python3.6/dist-packages (from python-dateutil>=2.7.3->pandas>=0.23->arviz) (1.15.0)\n"
          ],
          "name": "stdout"
        }
      ]
    },
    {
      "cell_type": "code",
      "metadata": {
        "colab": {
          "base_uri": "https://localhost:8080/"
        },
        "id": "V102w33ASKAH",
        "outputId": "8875136c-292e-4c49-dc1a-2572f7055418"
      },
      "source": [
        "!pip install numpy --upgrade"
      ],
      "id": "V102w33ASKAH",
      "execution_count": 2,
      "outputs": [
        {
          "output_type": "stream",
          "text": [
            "Requirement already up-to-date: numpy in /usr/local/lib/python3.6/dist-packages (1.19.5)\n"
          ],
          "name": "stdout"
        }
      ]
    },
    {
      "cell_type": "code",
      "metadata": {
        "colab": {
          "base_uri": "https://localhost:8080/"
        },
        "id": "QN7fBamHTOZC",
        "outputId": "5843e8f3-b0d7-4a95-b116-4f45181180c7"
      },
      "source": [
        "!pip install pymc3 --upgrade"
      ],
      "id": "QN7fBamHTOZC",
      "execution_count": 3,
      "outputs": [
        {
          "output_type": "stream",
          "text": [
            "Requirement already up-to-date: pymc3 in /usr/local/lib/python3.6/dist-packages (3.10.0)\n",
            "Requirement already satisfied, skipping upgrade: dataclasses; python_version < \"3.7\" in /usr/local/lib/python3.6/dist-packages (from pymc3) (0.8)\n",
            "Requirement already satisfied, skipping upgrade: numpy>=1.13.0 in /usr/local/lib/python3.6/dist-packages (from pymc3) (1.19.5)\n",
            "Requirement already satisfied, skipping upgrade: typing-extensions>=3.7.4 in /usr/local/lib/python3.6/dist-packages (from pymc3) (3.7.4.3)\n",
            "Requirement already satisfied, skipping upgrade: pandas>=0.18.0 in /usr/local/lib/python3.6/dist-packages (from pymc3) (1.1.5)\n",
            "Requirement already satisfied, skipping upgrade: scipy>=0.18.1 in /usr/local/lib/python3.6/dist-packages (from pymc3) (1.4.1)\n",
            "Requirement already satisfied, skipping upgrade: patsy>=0.5.1 in /usr/local/lib/python3.6/dist-packages (from pymc3) (0.5.1)\n",
            "Requirement already satisfied, skipping upgrade: contextvars; python_version < \"3.7\" in /usr/local/lib/python3.6/dist-packages (from pymc3) (2.4)\n",
            "Requirement already satisfied, skipping upgrade: theano-pymc==1.0.11 in /usr/local/lib/python3.6/dist-packages (from pymc3) (1.0.11)\n",
            "Requirement already satisfied, skipping upgrade: fastprogress>=0.2.0 in /usr/local/lib/python3.6/dist-packages (from pymc3) (1.0.0)\n",
            "Requirement already satisfied, skipping upgrade: dill in /usr/local/lib/python3.6/dist-packages (from pymc3) (0.3.3)\n",
            "Requirement already satisfied, skipping upgrade: arviz>=0.9.0 in /usr/local/lib/python3.6/dist-packages (from pymc3) (0.11.1)\n",
            "Requirement already satisfied, skipping upgrade: pytz>=2017.2 in /usr/local/lib/python3.6/dist-packages (from pandas>=0.18.0->pymc3) (2018.9)\n",
            "Requirement already satisfied, skipping upgrade: python-dateutil>=2.7.3 in /usr/local/lib/python3.6/dist-packages (from pandas>=0.18.0->pymc3) (2.8.1)\n",
            "Requirement already satisfied, skipping upgrade: six in /usr/local/lib/python3.6/dist-packages (from patsy>=0.5.1->pymc3) (1.15.0)\n",
            "Requirement already satisfied, skipping upgrade: immutables>=0.9 in /usr/local/lib/python3.6/dist-packages (from contextvars; python_version < \"3.7\"->pymc3) (0.15)\n",
            "Requirement already satisfied, skipping upgrade: packaging in /usr/local/lib/python3.6/dist-packages (from arviz>=0.9.0->pymc3) (20.9)\n",
            "Requirement already satisfied, skipping upgrade: matplotlib>=3.0 in /usr/local/lib/python3.6/dist-packages (from arviz>=0.9.0->pymc3) (3.2.2)\n",
            "Requirement already satisfied, skipping upgrade: xarray>=0.16.1 in /usr/local/lib/python3.6/dist-packages (from arviz>=0.9.0->pymc3) (0.16.2)\n",
            "Requirement already satisfied, skipping upgrade: setuptools>=38.4 in /usr/local/lib/python3.6/dist-packages (from arviz>=0.9.0->pymc3) (53.0.0)\n",
            "Requirement already satisfied, skipping upgrade: netcdf4 in /usr/local/lib/python3.6/dist-packages (from arviz>=0.9.0->pymc3) (1.5.6)\n",
            "Requirement already satisfied, skipping upgrade: pyparsing>=2.0.2 in /usr/local/lib/python3.6/dist-packages (from packaging->arviz>=0.9.0->pymc3) (2.4.7)\n",
            "Requirement already satisfied, skipping upgrade: kiwisolver>=1.0.1 in /usr/local/lib/python3.6/dist-packages (from matplotlib>=3.0->arviz>=0.9.0->pymc3) (1.3.1)\n",
            "Requirement already satisfied, skipping upgrade: cycler>=0.10 in /usr/local/lib/python3.6/dist-packages (from matplotlib>=3.0->arviz>=0.9.0->pymc3) (0.10.0)\n",
            "Requirement already satisfied, skipping upgrade: cftime in /usr/local/lib/python3.6/dist-packages (from netcdf4->arviz>=0.9.0->pymc3) (1.4.1)\n"
          ],
          "name": "stdout"
        }
      ]
    },
    {
      "cell_type": "code",
      "metadata": {
        "colab": {
          "base_uri": "https://localhost:8080/"
        },
        "id": "A24Y0ghRVH74",
        "outputId": "201bdba1-7050-4104-92b1-6904b8b87a0e"
      },
      "source": [
        "pip install --upgrade tqdm"
      ],
      "id": "A24Y0ghRVH74",
      "execution_count": 1,
      "outputs": [
        {
          "output_type": "stream",
          "text": [
            "Requirement already up-to-date: tqdm in /usr/local/lib/python3.6/dist-packages (4.56.2)\n"
          ],
          "name": "stdout"
        }
      ]
    },
    {
      "cell_type": "code",
      "metadata": {
        "id": "answering-singer"
      },
      "source": [
        "import numpy as np\n",
        "import pandas as pd\n",
        "import scipy.stats\n",
        "import pymc3 as pm\n",
        "import arviz as az\n",
        "import theano.tensor as tt\n",
        "import matplotlib.pyplot as plt\n",
        "import seaborn as sns\n",
        "from tqdm import tqdm"
      ],
      "id": "answering-singer",
      "execution_count": 3,
      "outputs": []
    },
    {
      "cell_type": "markdown",
      "metadata": {
        "id": "xSlfLEtHJh9H"
      },
      "source": [
        "# Produce data"
      ],
      "id": "xSlfLEtHJh9H"
    },
    {
      "cell_type": "code",
      "metadata": {
        "id": "nasty-diamond"
      },
      "source": [
        "class Leitner:\n",
        "    def __init__(self, n_item, delay_factor, delay_min):\n",
        "\n",
        "        box = np.full(n_item, -1)\n",
        "        due = np.full(n_item, -1)\n",
        "\n",
        "        self.n_item = n_item\n",
        "\n",
        "        self.delay_factor = delay_factor\n",
        "        self.delay_min = delay_min\n",
        "\n",
        "        self.box = box\n",
        "        self.due = due\n",
        "\n",
        "    def update_box_and_due_time(self, last_idx, last_was_success, last_time_reply):\n",
        "\n",
        "        if last_was_success:\n",
        "            self.box[last_idx] += 1\n",
        "        else:\n",
        "            self.box[last_idx] = max(0, self.box[last_idx] - 1)\n",
        "\n",
        "        delay = self.delay_factor ** self.box[last_idx]\n",
        "        # Delay is 1, 2, 4, 8, 16, 32, 64, 128, 256, 512 ... minutes\n",
        "        self.due[last_idx] = last_time_reply + self.delay_min * delay\n",
        "\n",
        "    def _pickup_item(self, now):\n",
        "\n",
        "        seen = np.argwhere(np.asarray(self.box) >= 0).flatten()\n",
        "        n_seen = len(seen)\n",
        "\n",
        "        if n_seen == self.n_item:\n",
        "            return np.argmin(self.due)\n",
        "\n",
        "        else:\n",
        "            seen__due = np.asarray(self.due)[seen]\n",
        "            seen__is_due = np.asarray(seen__due) <= now\n",
        "            if np.sum(seen__is_due):\n",
        "                seen_and_is_due__due = seen__due[seen__is_due]\n",
        "\n",
        "                return seen[seen__is_due][np.argmin(seen_and_is_due__due)]\n",
        "            else:\n",
        "                return self._pickup_new()\n",
        "\n",
        "    def _pickup_new(self):\n",
        "        return np.argmin(self.box)\n",
        "\n",
        "    def ask(self, now, last_was_success, last_time_reply, idx_last_q):\n",
        "\n",
        "        if idx_last_q is None:\n",
        "            item_idx = self._pickup_new()\n",
        "\n",
        "        else:\n",
        "\n",
        "            self.update_box_and_due_time(\n",
        "                last_idx=idx_last_q,\n",
        "                last_was_success=last_was_success,\n",
        "                last_time_reply=last_time_reply,\n",
        "            )\n",
        "            item_idx = self._pickup_item(now)\n",
        "\n",
        "        return item_idx"
      ],
      "id": "nasty-diamond",
      "execution_count": 14,
      "outputs": []
    },
    {
      "cell_type": "code",
      "metadata": {
        "id": "viral-converter"
      },
      "source": [
        "np.random.seed(123)\n",
        "n_item = 500\n",
        "\n",
        "ss_n_iter = 100\n",
        "time_per_iter = 4\n",
        "n_sec_day = 24 * 60**2\n",
        "n_ss = 100\n",
        "eval_ts = n_ss * n_sec_day\n",
        "\n",
        "reviews_list = [np.arange(x, x + (ss_n_iter * time_per_iter), time_per_iter) \n",
        "                for x in np.arange(n_sec_day * n_ss, step=n_sec_day)]\n",
        "review_ts = np.hstack(reviews_list)"
      ],
      "id": "viral-converter",
      "execution_count": 13,
      "outputs": []
    },
    {
      "cell_type": "code",
      "metadata": {
        "id": "polyphonic-impression"
      },
      "source": [
        "def run(param, agent=0, c=1e-05):\n",
        "    bkp = []\n",
        "\n",
        "    n_total_iter = len(review_ts)\n",
        "\n",
        "    rd = np.log(np.random.random(size=n_total_iter))\n",
        "\n",
        "    is_it_spec = len(np.asarray(param).shape) > 1\n",
        "\n",
        "    lei = Leitner(n_item=n_item, delay_min=4, delay_factor=2)\n",
        "\n",
        "    n_rep = np.full(n_item, -1, dtype=int)\n",
        "    last_pres = np.zeros(n_item)\n",
        "\n",
        "    last_item = None\n",
        "    last_success = None\n",
        "    last_ts = None\n",
        "\n",
        "    for i, ts in enumerate(review_ts):\n",
        "\n",
        "        item = lei.ask(\n",
        "            now=ts,\n",
        "            idx_last_q=last_item,\n",
        "            last_was_success=last_success,\n",
        "            last_time_reply=last_ts)\n",
        "\n",
        "        if is_it_spec:\n",
        "            α, β = param[item, 0], param[item, 1]\n",
        "        else:\n",
        "            α, β = param[0], param[1]\n",
        "            \n",
        "        delta_rep = ts - last_pres[item]\n",
        "        n_rep_i = n_rep[item]\n",
        "        if n_rep_i < 0:\n",
        "            success = False\n",
        "        else:\n",
        "            lp = - α * (1 - β)**n_rep_i * delta_rep * c\n",
        "            success = lp > rd[i]\n",
        "            \n",
        "            # Backup\n",
        "            bkp.append({\n",
        "                \"agent\": agent,\n",
        "                \"item\": item, \"success\": success, \n",
        "                \"n_rep\": n_rep_i, \n",
        "                \"delta_rep\": delta_rep})\n",
        "\n",
        "        # Update values\n",
        "        n_rep[item] += 1\n",
        "        last_pres[item] = ts\n",
        "        last_success = success\n",
        "        last_ts = ts\n",
        "        last_item = item\n",
        "    return pd.DataFrame(bkp)"
      ],
      "id": "polyphonic-impression",
      "execution_count": 12,
      "outputs": []
    },
    {
      "cell_type": "code",
      "metadata": {
        "scrolled": false,
        "id": "guided-principle",
        "colab": {
          "base_uri": "https://localhost:8080/",
          "height": 419
        },
        "outputId": "4e5152cc-701f-4426-ae48-94dca1df5b9c"
      },
      "source": [
        "df = run([5.0, 0.3])\n",
        "df"
      ],
      "id": "guided-principle",
      "execution_count": 9,
      "outputs": [
        {
          "output_type": "execute_result",
          "data": {
            "text/html": [
              "<div>\n",
              "<style scoped>\n",
              "    .dataframe tbody tr th:only-of-type {\n",
              "        vertical-align: middle;\n",
              "    }\n",
              "\n",
              "    .dataframe tbody tr th {\n",
              "        vertical-align: top;\n",
              "    }\n",
              "\n",
              "    .dataframe thead th {\n",
              "        text-align: right;\n",
              "    }\n",
              "</style>\n",
              "<table border=\"1\" class=\"dataframe\">\n",
              "  <thead>\n",
              "    <tr style=\"text-align: right;\">\n",
              "      <th></th>\n",
              "      <th>agent</th>\n",
              "      <th>item</th>\n",
              "      <th>success</th>\n",
              "      <th>n_rep</th>\n",
              "      <th>delta_rep</th>\n",
              "    </tr>\n",
              "  </thead>\n",
              "  <tbody>\n",
              "    <tr>\n",
              "      <th>0</th>\n",
              "      <td>0</td>\n",
              "      <td>0</td>\n",
              "      <td>True</td>\n",
              "      <td>0</td>\n",
              "      <td>4.0</td>\n",
              "    </tr>\n",
              "    <tr>\n",
              "      <th>1</th>\n",
              "      <td>0</td>\n",
              "      <td>0</td>\n",
              "      <td>True</td>\n",
              "      <td>1</td>\n",
              "      <td>8.0</td>\n",
              "    </tr>\n",
              "    <tr>\n",
              "      <th>2</th>\n",
              "      <td>0</td>\n",
              "      <td>1</td>\n",
              "      <td>True</td>\n",
              "      <td>0</td>\n",
              "      <td>8.0</td>\n",
              "    </tr>\n",
              "    <tr>\n",
              "      <th>3</th>\n",
              "      <td>0</td>\n",
              "      <td>1</td>\n",
              "      <td>True</td>\n",
              "      <td>1</td>\n",
              "      <td>8.0</td>\n",
              "    </tr>\n",
              "    <tr>\n",
              "      <th>4</th>\n",
              "      <td>0</td>\n",
              "      <td>2</td>\n",
              "      <td>True</td>\n",
              "      <td>0</td>\n",
              "      <td>8.0</td>\n",
              "    </tr>\n",
              "    <tr>\n",
              "      <th>...</th>\n",
              "      <td>...</td>\n",
              "      <td>...</td>\n",
              "      <td>...</td>\n",
              "      <td>...</td>\n",
              "      <td>...</td>\n",
              "    </tr>\n",
              "    <tr>\n",
              "      <th>9548</th>\n",
              "      <td>0</td>\n",
              "      <td>444</td>\n",
              "      <td>True</td>\n",
              "      <td>0</td>\n",
              "      <td>4.0</td>\n",
              "    </tr>\n",
              "    <tr>\n",
              "      <th>9549</th>\n",
              "      <td>0</td>\n",
              "      <td>443</td>\n",
              "      <td>True</td>\n",
              "      <td>2</td>\n",
              "      <td>16.0</td>\n",
              "    </tr>\n",
              "    <tr>\n",
              "      <th>9550</th>\n",
              "      <td>0</td>\n",
              "      <td>444</td>\n",
              "      <td>True</td>\n",
              "      <td>1</td>\n",
              "      <td>8.0</td>\n",
              "    </tr>\n",
              "    <tr>\n",
              "      <th>9551</th>\n",
              "      <td>0</td>\n",
              "      <td>445</td>\n",
              "      <td>True</td>\n",
              "      <td>0</td>\n",
              "      <td>4.0</td>\n",
              "    </tr>\n",
              "    <tr>\n",
              "      <th>9552</th>\n",
              "      <td>0</td>\n",
              "      <td>442</td>\n",
              "      <td>True</td>\n",
              "      <td>3</td>\n",
              "      <td>32.0</td>\n",
              "    </tr>\n",
              "  </tbody>\n",
              "</table>\n",
              "<p>9553 rows × 5 columns</p>\n",
              "</div>"
            ],
            "text/plain": [
              "      agent  item  success  n_rep  delta_rep\n",
              "0         0     0     True      0        4.0\n",
              "1         0     0     True      1        8.0\n",
              "2         0     1     True      0        8.0\n",
              "3         0     1     True      1        8.0\n",
              "4         0     2     True      0        8.0\n",
              "...     ...   ...      ...    ...        ...\n",
              "9548      0   444     True      0        4.0\n",
              "9549      0   443     True      2       16.0\n",
              "9550      0   444     True      1        8.0\n",
              "9551      0   445     True      0        4.0\n",
              "9552      0   442     True      3       32.0\n",
              "\n",
              "[9553 rows x 5 columns]"
            ]
          },
          "metadata": {
            "tags": []
          },
          "execution_count": 9
        }
      ]
    },
    {
      "cell_type": "code",
      "metadata": {
        "id": "sexual-neutral",
        "colab": {
          "base_uri": "https://localhost:8080/"
        },
        "outputId": "63e7a80c-6eff-4b1c-c8a7-985dbf72ffd8"
      },
      "source": [
        "df.success.mean()"
      ],
      "id": "sexual-neutral",
      "execution_count": 10,
      "outputs": [
        {
          "output_type": "execute_result",
          "data": {
            "text/plain": [
              "0.9179315398304198"
            ]
          },
          "metadata": {
            "tags": []
          },
          "execution_count": 10
        }
      ]
    },
    {
      "cell_type": "markdown",
      "metadata": {
        "id": "QoGanNjDYPos"
      },
      "source": [
        "# Inference for a single individual"
      ],
      "id": "QoGanNjDYPos"
    },
    {
      "cell_type": "code",
      "metadata": {
        "id": "adequate-settlement"
      },
      "source": [
        "delta_rep = df.delta_rep.values\n",
        "n_rep = df.n_rep.values\n",
        "success = df.success\n",
        "\n",
        "eps = np.finfo(float).eps\n",
        "c = 1e-05\n",
        "\n",
        "with pm.Model() as model:\n",
        "\n",
        "    α = pm.HalfFlat('α')  # pm.Bound(pm.Flat, lower=0.02, upper=2500.0) # pm.TruncatedNormal('α', mu=2.0, sigma=1.0, lower=0.02, upper=2500.0)\n",
        "    β = pm.Bound(pm.Flat, lower=0.0, upper=1.0)('β')  # pm.TruncatedNormal('β', mu=0.1, sigma=0.1, lower=0.0, upper=1.0)\n",
        "\n",
        "    lp = - delta_rep * α * (1 - β) ** n_rep * c\n",
        "    logit_p = lp - np.log(1-np.exp(lp) + eps)\n",
        "\n",
        "    recall = pm.Bernoulli('recall', logit_p=logit_p, observed=success)"
      ],
      "id": "adequate-settlement",
      "execution_count": 11,
      "outputs": []
    },
    {
      "cell_type": "code",
      "metadata": {
        "scrolled": true,
        "id": "friendly-heritage",
        "colab": {
          "base_uri": "https://localhost:8080/",
          "height": 159
        },
        "outputId": "bc79b8a7-7e4a-47fd-b955-6ff65a22dda5"
      },
      "source": [
        "with model:\n",
        "    trace = pm.sample(1000, tune=1000, chains=2, return_inferencedata=True)"
      ],
      "id": "friendly-heritage",
      "execution_count": 12,
      "outputs": [
        {
          "output_type": "stream",
          "text": [
            "Auto-assigning NUTS sampler...\n",
            "Initializing NUTS using jitter+adapt_diag...\n",
            "Sequential sampling (2 chains in 1 job)\n",
            "NUTS: [β, α]\n"
          ],
          "name": "stderr"
        },
        {
          "output_type": "display_data",
          "data": {
            "text/html": [
              "\n",
              "    <div>\n",
              "        <style>\n",
              "            /* Turns off some styling */\n",
              "            progress {\n",
              "                /* gets rid of default border in Firefox and Opera. */\n",
              "                border: none;\n",
              "                /* Needs to be in here for Safari polyfill so background images work as expected. */\n",
              "                background-size: auto;\n",
              "            }\n",
              "            .progress-bar-interrupted, .progress-bar-interrupted::-webkit-progress-bar {\n",
              "                background: #F44336;\n",
              "            }\n",
              "        </style>\n",
              "      <progress value='2000' class='' max='2000' style='width:300px; height:20px; vertical-align: middle;'></progress>\n",
              "      100.00% [2000/2000 00:32<00:00 Sampling chain 0, 0 divergences]\n",
              "    </div>\n",
              "    "
            ],
            "text/plain": [
              "<IPython.core.display.HTML object>"
            ]
          },
          "metadata": {
            "tags": []
          }
        },
        {
          "output_type": "display_data",
          "data": {
            "text/html": [
              "\n",
              "    <div>\n",
              "        <style>\n",
              "            /* Turns off some styling */\n",
              "            progress {\n",
              "                /* gets rid of default border in Firefox and Opera. */\n",
              "                border: none;\n",
              "                /* Needs to be in here for Safari polyfill so background images work as expected. */\n",
              "                background-size: auto;\n",
              "            }\n",
              "            .progress-bar-interrupted, .progress-bar-interrupted::-webkit-progress-bar {\n",
              "                background: #F44336;\n",
              "            }\n",
              "        </style>\n",
              "      <progress value='2000' class='' max='2000' style='width:300px; height:20px; vertical-align: middle;'></progress>\n",
              "      100.00% [2000/2000 00:33<00:00 Sampling chain 1, 0 divergences]\n",
              "    </div>\n",
              "    "
            ],
            "text/plain": [
              "<IPython.core.display.HTML object>"
            ]
          },
          "metadata": {
            "tags": []
          }
        },
        {
          "output_type": "stream",
          "text": [
            "Sampling 2 chains for 1_000 tune and 1_000 draw iterations (2_000 + 2_000 draws total) took 66 seconds.\n",
            "The number of effective samples is smaller than 25% for some parameters.\n"
          ],
          "name": "stderr"
        }
      ]
    },
    {
      "cell_type": "code",
      "metadata": {
        "id": "systematic-desktop",
        "colab": {
          "base_uri": "https://localhost:8080/",
          "height": 111
        },
        "outputId": "1c49824b-ab8a-4660-8596-c4876003866f"
      },
      "source": [
        "trace_sm = az.summary(trace)\n",
        "trace_sm"
      ],
      "id": "systematic-desktop",
      "execution_count": 13,
      "outputs": [
        {
          "output_type": "execute_result",
          "data": {
            "text/html": [
              "<div>\n",
              "<style scoped>\n",
              "    .dataframe tbody tr th:only-of-type {\n",
              "        vertical-align: middle;\n",
              "    }\n",
              "\n",
              "    .dataframe tbody tr th {\n",
              "        vertical-align: top;\n",
              "    }\n",
              "\n",
              "    .dataframe thead th {\n",
              "        text-align: right;\n",
              "    }\n",
              "</style>\n",
              "<table border=\"1\" class=\"dataframe\">\n",
              "  <thead>\n",
              "    <tr style=\"text-align: right;\">\n",
              "      <th></th>\n",
              "      <th>mean</th>\n",
              "      <th>sd</th>\n",
              "      <th>hdi_3%</th>\n",
              "      <th>hdi_97%</th>\n",
              "      <th>mcse_mean</th>\n",
              "      <th>mcse_sd</th>\n",
              "      <th>ess_mean</th>\n",
              "      <th>ess_sd</th>\n",
              "      <th>ess_bulk</th>\n",
              "      <th>ess_tail</th>\n",
              "      <th>r_hat</th>\n",
              "    </tr>\n",
              "  </thead>\n",
              "  <tbody>\n",
              "    <tr>\n",
              "      <th>α</th>\n",
              "      <td>4.97</td>\n",
              "      <td>0.347</td>\n",
              "      <td>4.325</td>\n",
              "      <td>5.600</td>\n",
              "      <td>0.017</td>\n",
              "      <td>0.012</td>\n",
              "      <td>435.0</td>\n",
              "      <td>431.0</td>\n",
              "      <td>436.0</td>\n",
              "      <td>701.0</td>\n",
              "      <td>1.01</td>\n",
              "    </tr>\n",
              "    <tr>\n",
              "      <th>β</th>\n",
              "      <td>0.30</td>\n",
              "      <td>0.006</td>\n",
              "      <td>0.290</td>\n",
              "      <td>0.311</td>\n",
              "      <td>0.000</td>\n",
              "      <td>0.000</td>\n",
              "      <td>379.0</td>\n",
              "      <td>377.0</td>\n",
              "      <td>379.0</td>\n",
              "      <td>555.0</td>\n",
              "      <td>1.01</td>\n",
              "    </tr>\n",
              "  </tbody>\n",
              "</table>\n",
              "</div>"
            ],
            "text/plain": [
              "   mean     sd  hdi_3%  hdi_97%  ...  ess_sd  ess_bulk  ess_tail  r_hat\n",
              "α  4.97  0.347   4.325    5.600  ...   431.0     436.0     701.0   1.01\n",
              "β  0.30  0.006   0.290    0.311  ...   377.0     379.0     555.0   1.01\n",
              "\n",
              "[2 rows x 11 columns]"
            ]
          },
          "metadata": {
            "tags": []
          },
          "execution_count": 13
        }
      ]
    },
    {
      "cell_type": "code",
      "metadata": {
        "id": "suspended-stupid",
        "colab": {
          "base_uri": "https://localhost:8080/",
          "height": 398
        },
        "outputId": "5f767971-8ade-40de-ba3e-c543b3205a46"
      },
      "source": [
        "az.plot_trace(trace, var_names=['α', 'β'])"
      ],
      "id": "suspended-stupid",
      "execution_count": 14,
      "outputs": [
        {
          "output_type": "execute_result",
          "data": {
            "text/plain": [
              "array([[<matplotlib.axes._subplots.AxesSubplot object at 0x7fe5d9b315c0>,\n",
              "        <matplotlib.axes._subplots.AxesSubplot object at 0x7fe5d9611a58>],\n",
              "       [<matplotlib.axes._subplots.AxesSubplot object at 0x7fe5d95c0fd0>,\n",
              "        <matplotlib.axes._subplots.AxesSubplot object at 0x7fe5d966cd30>]],\n",
              "      dtype=object)"
            ]
          },
          "metadata": {
            "tags": []
          },
          "execution_count": 14
        },
        {
          "output_type": "display_data",
          "data": {
            "image/png": "[encoded data removed]",
            "text/plain": [
              "<Figure size 864x288 with 4 Axes>"
            ]
          },
          "metadata": {
            "tags": [],
            "needs_background": "light"
          }
        }
      ]
    },
    {
      "cell_type": "markdown",
      "metadata": {
        "id": "4zKZ8NqtVaqa"
      },
      "source": [
        "# Make data for a population "
      ],
      "id": "4zKZ8NqtVaqa"
    },
    {
      "cell_type": "code",
      "metadata": {
        "id": "tropical-browse",
        "colab": {
          "base_uri": "https://localhost:8080/",
          "height": 282
        },
        "outputId": "8fb7234d-7f56-4140-d1c7-3d489a44256b"
      },
      "source": [
        "m_alpha = 4\n",
        "s_alpha = 4\n",
        "fig, ax = plt.subplots()\n",
        "\n",
        "a = 0 # 15\n",
        "b = np.inf # 25 # np.inf\n",
        "\n",
        "kwargs_alpha = dict(loc=m_alpha, scale=s_alpha, a=(a-m_alpha)/s_alpha, b=(b-m_alpha)/s_alpha)\n",
        "\n",
        "x = scipy.stats.truncnorm.rvs(size=10000, **kwargs_alpha)\n",
        "sns.histplot(x, alpha=0.5, linewidth=0, stat=\"density\", ax=ax, color='C0')\n",
        "x_th = np.linspace(0, np.max(x), 1000)\n",
        "y_th = scipy.stats.truncnorm.pdf(x_th, **kwargs_alpha)\n",
        "ax.plot(x_th, y_th, color='C0', label=\"theoretical distribution\", ls='-')"
      ],
      "id": "tropical-browse",
      "execution_count": 6,
      "outputs": [
        {
          "output_type": "execute_result",
          "data": {
            "text/plain": [
              "[<matplotlib.lines.Line2D at 0x7f6c6b0e5be0>]"
            ]
          },
          "metadata": {
            "tags": []
          },
          "execution_count": 6
        },
        {
          "output_type": "display_data",
          "data": {
            "image/png": "[encoded data removed]",
            "text/plain": [
              "<Figure size 432x288 with 1 Axes>"
            ]
          },
          "metadata": {
            "tags": [],
            "needs_background": "light"
          }
        }
      ]
    },
    {
      "cell_type": "code",
      "metadata": {
        "id": "lonely-intermediate",
        "colab": {
          "base_uri": "https://localhost:8080/",
          "height": 282
        },
        "outputId": "35531fe4-d652-4c66-97d7-3732f7d58b63"
      },
      "source": [
        "m_beta = 0.5\n",
        "s_beta = 0.1\n",
        "fig, ax = plt.subplots()\n",
        "\n",
        "a = 0 # 15\n",
        "b = 1 # 25 # np.inf\n",
        "\n",
        "kwargs_beta = dict(loc=m_beta, scale=s_beta, a=(a-m_beta)/s_beta, b=(b-m_beta)/s_beta)\n",
        "\n",
        "x = scipy.stats.truncnorm.rvs(size=10000, **kwargs_beta)\n",
        "sns.histplot(x, alpha=0.5, linewidth=0, stat=\"density\", ax=ax, color='C0')\n",
        "x_th = np.linspace(0, 1, 1000)\n",
        "y_th = scipy.stats.truncnorm.pdf(x_th, **kwargs_beta)\n",
        "ax.plot(x_th, y_th, color='C0', label=\"theoretical distribution\", ls='-')"
      ],
      "id": "lonely-intermediate",
      "execution_count": 7,
      "outputs": [
        {
          "output_type": "execute_result",
          "data": {
            "text/plain": [
              "[<matplotlib.lines.Line2D at 0x7f6c6b0e59b0>]"
            ]
          },
          "metadata": {
            "tags": []
          },
          "execution_count": 7
        },
        {
          "output_type": "display_data",
          "data": {
            "image/png": "[encoded data removed]",
            "text/plain": [
              "<Figure size 432x288 with 1 Axes>"
            ]
          },
          "metadata": {
            "tags": [],
            "needs_background": "light"
          }
        }
      ]
    },
    {
      "cell_type": "code",
      "metadata": {
        "id": "removable-rating",
        "colab": {
          "base_uri": "https://localhost:8080/",
          "height": 419
        },
        "outputId": "1c382402-2f87-4967-d04d-5af958ba633b"
      },
      "source": [
        "n = 100\n",
        "param = np.vstack((scipy.stats.truncnorm.rvs(size=n, **kwargs_alpha), \n",
        "                   scipy.stats.truncnorm.rvs(size=n, **kwargs_beta))).T\n",
        "df_param = pd.DataFrame(param, columns=('α', 'β'))\n",
        "df_param"
      ],
      "id": "removable-rating",
      "execution_count": 8,
      "outputs": [
        {
          "output_type": "execute_result",
          "data": {
            "text/html": [
              "<div>\n",
              "<style scoped>\n",
              "    .dataframe tbody tr th:only-of-type {\n",
              "        vertical-align: middle;\n",
              "    }\n",
              "\n",
              "    .dataframe tbody tr th {\n",
              "        vertical-align: top;\n",
              "    }\n",
              "\n",
              "    .dataframe thead th {\n",
              "        text-align: right;\n",
              "    }\n",
              "</style>\n",
              "<table border=\"1\" class=\"dataframe\">\n",
              "  <thead>\n",
              "    <tr style=\"text-align: right;\">\n",
              "      <th></th>\n",
              "      <th>α</th>\n",
              "      <th>β</th>\n",
              "    </tr>\n",
              "  </thead>\n",
              "  <tbody>\n",
              "    <tr>\n",
              "      <th>0</th>\n",
              "      <td>2.724237</td>\n",
              "      <td>0.423772</td>\n",
              "    </tr>\n",
              "    <tr>\n",
              "      <th>1</th>\n",
              "      <td>6.441326</td>\n",
              "      <td>0.525595</td>\n",
              "    </tr>\n",
              "    <tr>\n",
              "      <th>2</th>\n",
              "      <td>7.059306</td>\n",
              "      <td>0.416093</td>\n",
              "    </tr>\n",
              "    <tr>\n",
              "      <th>3</th>\n",
              "      <td>2.270854</td>\n",
              "      <td>0.544014</td>\n",
              "    </tr>\n",
              "    <tr>\n",
              "      <th>4</th>\n",
              "      <td>0.131689</td>\n",
              "      <td>0.565824</td>\n",
              "    </tr>\n",
              "    <tr>\n",
              "      <th>...</th>\n",
              "      <td>...</td>\n",
              "      <td>...</td>\n",
              "    </tr>\n",
              "    <tr>\n",
              "      <th>95</th>\n",
              "      <td>1.243338</td>\n",
              "      <td>0.537112</td>\n",
              "    </tr>\n",
              "    <tr>\n",
              "      <th>96</th>\n",
              "      <td>0.727576</td>\n",
              "      <td>0.404724</td>\n",
              "    </tr>\n",
              "    <tr>\n",
              "      <th>97</th>\n",
              "      <td>2.613549</td>\n",
              "      <td>0.510010</td>\n",
              "    </tr>\n",
              "    <tr>\n",
              "      <th>98</th>\n",
              "      <td>6.905804</td>\n",
              "      <td>0.579823</td>\n",
              "    </tr>\n",
              "    <tr>\n",
              "      <th>99</th>\n",
              "      <td>8.509050</td>\n",
              "      <td>0.631514</td>\n",
              "    </tr>\n",
              "  </tbody>\n",
              "</table>\n",
              "<p>100 rows × 2 columns</p>\n",
              "</div>"
            ],
            "text/plain": [
              "           α         β\n",
              "0   2.724237  0.423772\n",
              "1   6.441326  0.525595\n",
              "2   7.059306  0.416093\n",
              "3   2.270854  0.544014\n",
              "4   0.131689  0.565824\n",
              "..       ...       ...\n",
              "95  1.243338  0.537112\n",
              "96  0.727576  0.404724\n",
              "97  2.613549  0.510010\n",
              "98  6.905804  0.579823\n",
              "99  8.509050  0.631514\n",
              "\n",
              "[100 rows x 2 columns]"
            ]
          },
          "metadata": {
            "tags": []
          },
          "execution_count": 8
        }
      ]
    },
    {
      "cell_type": "code",
      "metadata": {
        "scrolled": false,
        "id": "mediterranean-northeast",
        "colab": {
          "base_uri": "https://localhost:8080/",
          "height": 282
        },
        "outputId": "bdb04f90-83f6-4bb3-a2ec-f983f46ad7b3"
      },
      "source": [
        "fig, ax = plt.subplots()\n",
        "\n",
        "x = df_param.α.values\n",
        "sns.histplot(x, alpha=0.5, linewidth=0, stat=\"density\", ax=ax, color='C0')\n",
        "x_th = np.linspace(0, np.max(x), 1000)\n",
        "y_th = scipy.stats.truncnorm.pdf(x_th, **kwargs_alpha)\n",
        "ax.plot(x_th, y_th, color='C0', label=\"theoretical distribution\", ls='-')"
      ],
      "id": "mediterranean-northeast",
      "execution_count": 9,
      "outputs": [
        {
          "output_type": "execute_result",
          "data": {
            "text/plain": [
              "[<matplotlib.lines.Line2D at 0x7f6c69e9c048>]"
            ]
          },
          "metadata": {
            "tags": []
          },
          "execution_count": 9
        },
        {
          "output_type": "display_data",
          "data": {
            "image/png": "[encoded data removed]",
            "text/plain": [
              "<Figure size 432x288 with 1 Axes>"
            ]
          },
          "metadata": {
            "tags": [],
            "needs_background": "light"
          }
        }
      ]
    },
    {
      "cell_type": "code",
      "metadata": {
        "id": "greater-strike",
        "colab": {
          "base_uri": "https://localhost:8080/",
          "height": 282
        },
        "outputId": "f68bbf4c-2f2d-48a5-b34d-c9f79ef804de"
      },
      "source": [
        "fig, ax = plt.subplots()\n",
        "\n",
        "x = df_param.β.values\n",
        "sns.histplot(x, alpha=0.5, linewidth=0, stat=\"density\", ax=ax, color='C0')\n",
        "x_th = np.linspace(0, 1, 1000)\n",
        "y_th = scipy.stats.truncnorm.pdf(x_th, **kwargs_beta)\n",
        "ax.plot(x_th, y_th, color='C0', label=\"theoretical distribution\", ls='-')"
      ],
      "id": "greater-strike",
      "execution_count": 10,
      "outputs": [
        {
          "output_type": "execute_result",
          "data": {
            "text/plain": [
              "[<matplotlib.lines.Line2D at 0x7f6c69e6c978>]"
            ]
          },
          "metadata": {
            "tags": []
          },
          "execution_count": 10
        },
        {
          "output_type": "display_data",
          "data": {
            "image/png": "[encoded data removed]",
            "text/plain": [
              "<Figure size 432x288 with 1 Axes>"
            ]
          },
          "metadata": {
            "tags": [],
            "needs_background": "light"
          }
        }
      ]
    },
    {
      "cell_type": "code",
      "metadata": {
        "id": "english-cruise",
        "colab": {
          "base_uri": "https://localhost:8080/",
          "height": 436
        },
        "outputId": "d99b27bd-44de-4468-c2dd-0f8b3dc92e04"
      },
      "source": [
        "r = []\n",
        "for i, pr in tqdm(enumerate(param), total=len(param)):\n",
        "    r.append(run(pr, agent=i))\n",
        "\n",
        "df = pd.concat(r)\n",
        "df"
      ],
      "id": "english-cruise",
      "execution_count": 15,
      "outputs": [
        {
          "output_type": "stream",
          "text": [
            "100%|██████████| 100/100 [00:46<00:00,  2.14it/s]\n"
          ],
          "name": "stderr"
        },
        {
          "output_type": "execute_result",
          "data": {
            "text/html": [
              "<div>\n",
              "<style scoped>\n",
              "    .dataframe tbody tr th:only-of-type {\n",
              "        vertical-align: middle;\n",
              "    }\n",
              "\n",
              "    .dataframe tbody tr th {\n",
              "        vertical-align: top;\n",
              "    }\n",
              "\n",
              "    .dataframe thead th {\n",
              "        text-align: right;\n",
              "    }\n",
              "</style>\n",
              "<table border=\"1\" class=\"dataframe\">\n",
              "  <thead>\n",
              "    <tr style=\"text-align: right;\">\n",
              "      <th></th>\n",
              "      <th>agent</th>\n",
              "      <th>item</th>\n",
              "      <th>success</th>\n",
              "      <th>n_rep</th>\n",
              "      <th>delta_rep</th>\n",
              "    </tr>\n",
              "  </thead>\n",
              "  <tbody>\n",
              "    <tr>\n",
              "      <th>0</th>\n",
              "      <td>0</td>\n",
              "      <td>0</td>\n",
              "      <td>True</td>\n",
              "      <td>0</td>\n",
              "      <td>4.0</td>\n",
              "    </tr>\n",
              "    <tr>\n",
              "      <th>1</th>\n",
              "      <td>0</td>\n",
              "      <td>0</td>\n",
              "      <td>True</td>\n",
              "      <td>1</td>\n",
              "      <td>8.0</td>\n",
              "    </tr>\n",
              "    <tr>\n",
              "      <th>2</th>\n",
              "      <td>0</td>\n",
              "      <td>1</td>\n",
              "      <td>True</td>\n",
              "      <td>0</td>\n",
              "      <td>8.0</td>\n",
              "    </tr>\n",
              "    <tr>\n",
              "      <th>3</th>\n",
              "      <td>0</td>\n",
              "      <td>1</td>\n",
              "      <td>True</td>\n",
              "      <td>1</td>\n",
              "      <td>8.0</td>\n",
              "    </tr>\n",
              "    <tr>\n",
              "      <th>4</th>\n",
              "      <td>0</td>\n",
              "      <td>2</td>\n",
              "      <td>True</td>\n",
              "      <td>0</td>\n",
              "      <td>8.0</td>\n",
              "    </tr>\n",
              "    <tr>\n",
              "      <th>...</th>\n",
              "      <td>...</td>\n",
              "      <td>...</td>\n",
              "      <td>...</td>\n",
              "      <td>...</td>\n",
              "      <td>...</td>\n",
              "    </tr>\n",
              "    <tr>\n",
              "      <th>9495</th>\n",
              "      <td>99</td>\n",
              "      <td>496</td>\n",
              "      <td>True</td>\n",
              "      <td>8</td>\n",
              "      <td>44.0</td>\n",
              "    </tr>\n",
              "    <tr>\n",
              "      <th>9496</th>\n",
              "      <td>99</td>\n",
              "      <td>497</td>\n",
              "      <td>True</td>\n",
              "      <td>8</td>\n",
              "      <td>44.0</td>\n",
              "    </tr>\n",
              "    <tr>\n",
              "      <th>9497</th>\n",
              "      <td>99</td>\n",
              "      <td>493</td>\n",
              "      <td>True</td>\n",
              "      <td>7</td>\n",
              "      <td>80.0</td>\n",
              "    </tr>\n",
              "    <tr>\n",
              "      <th>9498</th>\n",
              "      <td>99</td>\n",
              "      <td>494</td>\n",
              "      <td>True</td>\n",
              "      <td>8</td>\n",
              "      <td>32.0</td>\n",
              "    </tr>\n",
              "    <tr>\n",
              "      <th>9499</th>\n",
              "      <td>99</td>\n",
              "      <td>495</td>\n",
              "      <td>True</td>\n",
              "      <td>7</td>\n",
              "      <td>28.0</td>\n",
              "    </tr>\n",
              "  </tbody>\n",
              "</table>\n",
              "<p>950547 rows × 5 columns</p>\n",
              "</div>"
            ],
            "text/plain": [
              "      agent  item  success  n_rep  delta_rep\n",
              "0         0     0     True      0        4.0\n",
              "1         0     0     True      1        8.0\n",
              "2         0     1     True      0        8.0\n",
              "3         0     1     True      1        8.0\n",
              "4         0     2     True      0        8.0\n",
              "...     ...   ...      ...    ...        ...\n",
              "9495     99   496     True      8       44.0\n",
              "9496     99   497     True      8       44.0\n",
              "9497     99   493     True      7       80.0\n",
              "9498     99   494     True      8       32.0\n",
              "9499     99   495     True      7       28.0\n",
              "\n",
              "[950547 rows x 5 columns]"
            ]
          },
          "metadata": {
            "tags": []
          },
          "execution_count": 15
        }
      ]
    },
    {
      "cell_type": "code",
      "metadata": {
        "id": "coupled-shareware",
        "colab": {
          "base_uri": "https://localhost:8080/"
        },
        "outputId": "3019b29c-2f58-48b9-c99a-d66173ebaa00"
      },
      "source": [
        "df.groupby(\"agent\")[\"success\"].mean()"
      ],
      "id": "coupled-shareware",
      "execution_count": 16,
      "outputs": [
        {
          "output_type": "execute_result",
          "data": {
            "text/plain": [
              "agent\n",
              "0     0.973055\n",
              "1     0.969802\n",
              "2     0.949806\n",
              "3     0.986316\n",
              "4     0.999158\n",
              "        ...   \n",
              "95    0.991474\n",
              "96    0.989158\n",
              "97    0.983158\n",
              "98    0.975789\n",
              "99    0.979263\n",
              "Name: success, Length: 100, dtype: float64"
            ]
          },
          "metadata": {
            "tags": []
          },
          "execution_count": 16
        }
      ]
    },
    {
      "cell_type": "code",
      "metadata": {
        "id": "sporting-train"
      },
      "source": [
        "eps = np.finfo(float).eps"
      ],
      "id": "sporting-train",
      "execution_count": 17,
      "outputs": []
    },
    {
      "cell_type": "markdown",
      "metadata": {
        "id": "bOm9VZqBWbPJ"
      },
      "source": [
        "# Independent modeling"
      ],
      "id": "bOm9VZqBWbPJ"
    },
    {
      "cell_type": "code",
      "metadata": {
        "id": "minimal-invite"
      },
      "source": [
        "with pm.Model() as model:\n",
        "    \n",
        "    α = pm.HalfFlat('α', shape=n)  # pm.Bound(pm.Flat, lower=0.02, upper=2500.0) # pm.TruncatedNormal('α', mu=2.0, sigma=1.0, lower=0.02, upper=2500.0)\n",
        "    β = pm.Bound(pm.Flat, lower=0.0, upper=1.0)('β', shape=n) \n",
        "\n",
        "    to_concat = []\n",
        "    \n",
        "    for i in range(n):\n",
        "        df_a = df[df.agent == i]\n",
        "        n_rep, delta_rep = df_a.n_rep.values, df_a.delta_rep.values\n",
        "        \n",
        "        alpha = α[i]\n",
        "        beta = β[i]\n",
        "        \n",
        "        lp = - delta_rep * alpha * (1 - beta) ** n_rep * 1e-05\n",
        "        logit_p = lp - np.log(1 - np.exp(lp) + eps)\n",
        "        \n",
        "        to_concat.append(logit_p)\n",
        "    \n",
        "    logit_p_all = tt.concatenate(to_concat)\n",
        "    success = df.success.astype(bool).values\n",
        "    \n",
        "    recall = pm.Bernoulli('recall', logit_p=logit_p_all, observed=success)"
      ],
      "id": "minimal-invite",
      "execution_count": 18,
      "outputs": []
    },
    {
      "cell_type": "code",
      "metadata": {
        "id": "surprised-canvas",
        "colab": {
          "base_uri": "https://localhost:8080/",
          "height": 181
        },
        "outputId": "be49a9cd-a0fa-48f4-a7d4-876d1e442744"
      },
      "source": [
        "with model:\n",
        "    trace = pm.sample(1000, tune=1000, chains=2, return_inferencedata=True)"
      ],
      "id": "surprised-canvas",
      "execution_count": 2,
      "outputs": [
        {
          "output_type": "error",
          "ename": "NameError",
          "evalue": "ignored",
          "traceback": [
            "\u001b[0;31m---------------------------------------------------------------------------\u001b[0m",
            "\u001b[0;31mNameError\u001b[0m                                 Traceback (most recent call last)",
            "\u001b[0;32m<ipython-input-2-fa54bedf7cb9>\u001b[0m in \u001b[0;36m<module>\u001b[0;34m()\u001b[0m\n\u001b[0;32m----> 1\u001b[0;31m \u001b[0;32mwith\u001b[0m \u001b[0mmodel\u001b[0m\u001b[0;34m:\u001b[0m\u001b[0;34m\u001b[0m\u001b[0;34m\u001b[0m\u001b[0m\n\u001b[0m\u001b[1;32m      2\u001b[0m     \u001b[0mtrace\u001b[0m \u001b[0;34m=\u001b[0m \u001b[0mpm\u001b[0m\u001b[0;34m.\u001b[0m\u001b[0msample\u001b[0m\u001b[0;34m(\u001b[0m\u001b[0;36m1000\u001b[0m\u001b[0;34m,\u001b[0m \u001b[0mtune\u001b[0m\u001b[0;34m=\u001b[0m\u001b[0;36m1000\u001b[0m\u001b[0;34m,\u001b[0m \u001b[0mchains\u001b[0m\u001b[0;34m=\u001b[0m\u001b[0;36m2\u001b[0m\u001b[0;34m,\u001b[0m \u001b[0mreturn_inferencedata\u001b[0m\u001b[0;34m=\u001b[0m\u001b[0;32mTrue\u001b[0m\u001b[0;34m)\u001b[0m\u001b[0;34m\u001b[0m\u001b[0;34m\u001b[0m\u001b[0m\n",
            "\u001b[0;31mNameError\u001b[0m: name 'model' is not defined"
          ]
        }
      ]
    },
    {
      "cell_type": "code",
      "metadata": {
        "scrolled": false,
        "id": "short-night"
      },
      "source": [
        "trace_sm = az.summary(trace)\n",
        "trace_sm"
      ],
      "id": "short-night",
      "execution_count": null,
      "outputs": []
    },
    {
      "cell_type": "markdown",
      "metadata": {
        "id": "h7iXUZeCXlym"
      },
      "source": [
        "# Hierarchical Modeling"
      ],
      "id": "h7iXUZeCXlym"
    },
    {
      "cell_type": "code",
      "metadata": {
        "id": "authorized-bedroom",
        "colab": {
          "base_uri": "https://localhost:8080/",
          "height": 232
        },
        "outputId": "2355dfaf-d90f-4ba4-9a17-91173cea8aeb"
      },
      "source": [
        "with pm.Model() as model:\n",
        "    \n",
        "    mu_a = pm.HalfFlat(\"mu_a\")\n",
        "    sigma_a = pm.HalfFlat(\"sigma_a\")\n",
        "    mu_b = pm.Bound(pm.Flat,lower=0, upper=1)(\"mu_b\")\n",
        "    sigma_b = pm.HalfFlat(\"sigma_b\")\n",
        "    \n",
        "    α = pm.TruncatedNormal('α', mu=mu_a, sigma=sigma_a, lower=0.0, shape=n)\n",
        "    β = pm.TruncatedNormal('β', mu=mu_b, sigma=sigma_b, lower=0.0, upper=1.0, shape=n)\n",
        "    \n",
        "    to_concat = []\n",
        "    \n",
        "    for i in range(n):\n",
        "        df_a = df[df.agent == i]\n",
        "        n_rep, delta_rep = df_a.n_rep.values, df_a.delta_rep.values\n",
        "        \n",
        "        alpha = α[i]\n",
        "        beta = β[i]\n",
        "        \n",
        "        lp = - delta_rep * alpha * (1 - beta) ** n_rep * 1e-05\n",
        "        logit_p = lp - np.log(1 - np.exp(lp) + eps)\n",
        "        \n",
        "        to_concat.append(logit_p)\n",
        "\n",
        "#     lp = - delta_rep * alpha * (1 - beta) ** n_rep * 1e-05\n",
        "#     logit_p = lp - np.log(1 - np.exp(lp) + eps)\n",
        "    # logit_p = alpha / pm.math.maximum(alpha)\n",
        "    \n",
        "    \n",
        "    logit_p_all = tt.concatenate(to_concat)\n",
        "    success = df.success.astype(bool).values\n",
        "    \n",
        "    recall = pm.Bernoulli('recall', logit_p=logit_p_all, observed=success)"
      ],
      "id": "authorized-bedroom",
      "execution_count": 1,
      "outputs": [
        {
          "output_type": "error",
          "ename": "NameError",
          "evalue": "ignored",
          "traceback": [
            "\u001b[0;31m---------------------------------------------------------------------------\u001b[0m",
            "\u001b[0;31mNameError\u001b[0m                                 Traceback (most recent call last)",
            "\u001b[0;32m<ipython-input-1-33390357b800>\u001b[0m in \u001b[0;36m<module>\u001b[0;34m()\u001b[0m\n\u001b[0;32m----> 1\u001b[0;31m \u001b[0;32mwith\u001b[0m \u001b[0mpm\u001b[0m\u001b[0;34m.\u001b[0m\u001b[0mModel\u001b[0m\u001b[0;34m(\u001b[0m\u001b[0;34m)\u001b[0m \u001b[0;32mas\u001b[0m \u001b[0mmodel\u001b[0m\u001b[0;34m:\u001b[0m\u001b[0;34m\u001b[0m\u001b[0;34m\u001b[0m\u001b[0m\n\u001b[0m\u001b[1;32m      2\u001b[0m \u001b[0;34m\u001b[0m\u001b[0m\n\u001b[1;32m      3\u001b[0m     \u001b[0mmu_a\u001b[0m \u001b[0;34m=\u001b[0m \u001b[0mpm\u001b[0m\u001b[0;34m.\u001b[0m\u001b[0mHalfFlat\u001b[0m\u001b[0;34m(\u001b[0m\u001b[0;34m\"mu_a\"\u001b[0m\u001b[0;34m)\u001b[0m\u001b[0;34m\u001b[0m\u001b[0;34m\u001b[0m\u001b[0m\n\u001b[1;32m      4\u001b[0m     \u001b[0msigma_a\u001b[0m \u001b[0;34m=\u001b[0m \u001b[0mpm\u001b[0m\u001b[0;34m.\u001b[0m\u001b[0mHalfFlat\u001b[0m\u001b[0;34m(\u001b[0m\u001b[0;34m\"sigma_a\"\u001b[0m\u001b[0;34m)\u001b[0m\u001b[0;34m\u001b[0m\u001b[0;34m\u001b[0m\u001b[0m\n\u001b[1;32m      5\u001b[0m     \u001b[0mmu_b\u001b[0m \u001b[0;34m=\u001b[0m \u001b[0mpm\u001b[0m\u001b[0;34m.\u001b[0m\u001b[0mBound\u001b[0m\u001b[0;34m(\u001b[0m\u001b[0mpm\u001b[0m\u001b[0;34m.\u001b[0m\u001b[0mFlat\u001b[0m\u001b[0;34m,\u001b[0m\u001b[0mlower\u001b[0m\u001b[0;34m=\u001b[0m\u001b[0;36m0\u001b[0m\u001b[0;34m,\u001b[0m \u001b[0mupper\u001b[0m\u001b[0;34m=\u001b[0m\u001b[0;36m1\u001b[0m\u001b[0;34m)\u001b[0m\u001b[0;34m(\u001b[0m\u001b[0;34m\"mu_b\"\u001b[0m\u001b[0;34m)\u001b[0m\u001b[0;34m\u001b[0m\u001b[0;34m\u001b[0m\u001b[0m\n",
            "\u001b[0;31mNameError\u001b[0m: name 'pm' is not defined"
          ]
        }
      ]
    },
    {
      "cell_type": "code",
      "metadata": {
        "id": "dirty-judgment",
        "outputId": "0e4eb970-1264-4a03-df7d-34dda0afed9a"
      },
      "source": [
        "with model:\n",
        "    trace = pm.sample(1000, tune=1000, chains=2, return_inferencedata=True)"
      ],
      "id": "dirty-judgment",
      "execution_count": null,
      "outputs": [
        {
          "output_type": "stream",
          "text": [
            "Auto-assigning NUTS sampler...\n",
            "Initializing NUTS using jitter+adapt_diag...\n",
            "Multiprocess sampling (2 chains in 2 jobs)\n",
            "NUTS: [β, α, sigma_b, mu_b, sigma_a, mu_a]\n"
          ],
          "name": "stderr"
        },
        {
          "output_type": "display_data",
          "data": {
            "text/html": [
              "\n",
              "    <div>\n",
              "        <style>\n",
              "            /* Turns off some styling */\n",
              "            progress {\n",
              "                /* gets rid of default border in Firefox and Opera. */\n",
              "                border: none;\n",
              "                /* Needs to be in here for Safari polyfill so background images work as expected. */\n",
              "                background-size: auto;\n",
              "            }\n",
              "            .progress-bar-interrupted, .progress-bar-interrupted::-webkit-progress-bar {\n",
              "                background: #F44336;\n",
              "            }\n",
              "        </style>\n",
              "      <progress value='4000' class='' max='4000' style='width:300px; height:20px; vertical-align: middle;'></progress>\n",
              "      100.00% [4000/4000 2:15:33<00:00 Sampling 2 chains, 0 divergences]\n",
              "    </div>\n",
              "    "
            ],
            "text/plain": [
              "<IPython.core.display.HTML object>"
            ]
          },
          "metadata": {
            "tags": []
          }
        },
        {
          "output_type": "stream",
          "text": [
            "Sampling 2 chains for 1_000 tune and 1_000 draw iterations (2_000 + 2_000 draws total) took 8148 seconds.\n"
          ],
          "name": "stderr"
        }
      ]
    },
    {
      "cell_type": "code",
      "metadata": {
        "scrolled": false,
        "id": "enhanced-defendant"
      },
      "source": [
        "trace_sm = az.summary(trace)\n",
        "trace_sm"
      ],
      "id": "enhanced-defendant",
      "execution_count": null,
      "outputs": []
    },
    {
      "cell_type": "code",
      "metadata": {
        "id": "regulation-conservative"
      },
      "source": [
        "az.plot_posterior(trace, var_names=['mu_a', 'mu_b', 'sigma_a', 'sigma_b'])"
      ],
      "id": "regulation-conservative",
      "execution_count": null,
      "outputs": []
    },
    {
      "cell_type": "code",
      "metadata": {
        "id": "hybrid-vegetable"
      },
      "source": [
        "# for i in range(n):\n",
        "    \n",
        "#     df_a = df[df.agent == i]\n",
        "#     n_rep, delta_rep, success = df_a.n_rep.values, df_a.delta_rep.values, df_a.success.astype(bool).values\n",
        "#     eps = np.finfo(float).eps\n",
        "    \n",
        "#     with pm.Model() as model:\n",
        "\n",
        "#         α = pm.TruncatedNormal('α', mu=2.0, sigma=1.0, lower=0.02, upper=2500.0)\n",
        "#         β = pm.TruncatedNormal('β', mu=0.1, sigma=0.1, lower=0.0, upper=1.0)\n",
        "\n",
        "#         lp = - delta_rep * α * (1 - β) ** n_rep * 1e-05\n",
        "#         logit_p = lp - np.log(1-np.exp(lp) + eps)\n",
        "\n",
        "#         recall = pm.Bernoulli('recall', logit_p=logit_p, observed=success)\n",
        "\n",
        "#     with model:\n",
        "#         trace = pm.sample(1000, tune=1000, chains=2, return_inferencedata=True)\n",
        "#     trace_sm = az.summary(trace)\n",
        "#     print(trace_sm.loc['α', 'mean'], param[i, 0])\n",
        "#     print(trace_sm.loc['β', 'mean'], param[i, 1])"
      ],
      "id": "hybrid-vegetable",
      "execution_count": null,
      "outputs": []
    },
    {
      "cell_type": "code",
      "metadata": {
        "id": "guilty-delhi"
      },
      "source": [
        ""
      ],
      "id": "guilty-delhi",
      "execution_count": null,
      "outputs": []
    },
    {
      "cell_type": "code",
      "metadata": {
        "id": "robust-quality",
        "outputId": "5bf887a3-e4d5-444f-b77e-c984b2f4cda7"
      },
      "source": [
        "# m = 4\n",
        "# sig = 5\n",
        "# fig, ax = plt.subplots()\n",
        "# x = scipy.stats.halfnorm.rvs(loc=m, scale=sig, size=1000)\n",
        "# sns.histplot(x, alpha=0.5, linewidth=0, stat=\"density\", ax=ax, color='C0')\n",
        "# x_th = np.linspace(0, np.max(x), 1000)\n",
        "# y_th = scipy.stats.halfnorm.pdf(x_th, loc=m, scale=sig)\n",
        "# ax.plot(x_th, y_th, color='C0', label=\"theoretical distribution\", ls='-')"
      ],
      "id": "robust-quality",
      "execution_count": null,
      "outputs": [
        {
          "output_type": "execute_result",
          "data": {
            "text/plain": [
              "[<matplotlib.lines.Line2D at 0x1471f7fa0>]"
            ]
          },
          "metadata": {
            "tags": []
          },
          "execution_count": 100
        },
        {
          "output_type": "display_data",
          "data": {
            "image/png": "[encoded data removed]",
            "text/plain": [
              "<Figure size 432x288 with 1 Axes>"
            ]
          },
          "metadata": {
            "tags": [],
            "needs_background": "light"
          }
        }
      ]
    },
    {
      "cell_type": "code",
      "metadata": {
        "id": "a2L4_oGeOE_-"
      },
      "source": [
        ""
      ],
      "id": "a2L4_oGeOE_-",
      "execution_count": null,
      "outputs": []
    }
  ]
}